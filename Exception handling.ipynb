{
 "cells": [
  {
   "cell_type": "code",
   "execution_count": null,
   "metadata": {},
   "outputs": [],
   "source": [
    "try :       #in this,you need to add blocks(try,except all other) as mentioned.\n",
    "    #a=open(\"xyz.txt\")\n",
    "    #a.write(\"uh uhdfk n\")\n",
    "    4+5\n",
    "except:                          #if try block get execute,program executes else and finally block\n",
    "    print(\"file not availabel\")  #if try block not get executed,then program executes except and finally block  \n",
    "\n",
    "else:\n",
    "    print(\"good learner\")\n",
    "\n",
    "finally:\n",
    "    print(4+4)"
   ]
  },
  {
   "cell_type": "code",
   "execution_count": null,
   "metadata": {},
   "outputs": [],
   "source": [
    "try :       #in this,you need to add blocks(try,except all other) as mentioned.\n",
    "    #a=open(\"xyz.txt\")\n",
    "    #a.write(\"uh uhdfk n\")\n",
    "    4+5\n",
    "except:                          #if try block get execute,program executes else and finally block\n",
    "    print(\"file not availabel\")  #if try block not get executed,then program executes except and finally block  \n",
    "\n",
    "else:\n",
    "    print(\"good learner\")\n",
    "\n",
    "finally:\n",
    "    print(4+4)\n",
    "    try :                        #you can write try except block in any block, as we added try and except block in finnaly block\n",
    "        a=open(\"uy.txt\")\n",
    "    except Exception as e:\n",
    "        print (e)"
   ]
  },
  {
   "cell_type": "code",
   "execution_count": null,
   "metadata": {},
   "outputs": [],
   "source": [
    "def askint():\n",
    "    v=int(input(\"enter int value only\"))"
   ]
  },
  {
   "cell_type": "code",
   "execution_count": null,
   "metadata": {},
   "outputs": [],
   "source": [
    "askint()"
   ]
  },
  {
   "cell_type": "code",
   "execution_count": null,
   "metadata": {},
   "outputs": [],
   "source": [
    "def askint():\n",
    "    while True:\n",
    "        \n",
    "        try:\n",
    "            v=int(input(\"enter int value only\"))\n",
    "\n",
    "        except Exception as e:\n",
    "            print(e)\n",
    "\n",
    "        else :\n",
    "            print(\"you entered value  int\")\n",
    "            break\n",
    "            \n",
    "        finally :\n",
    "            print(\"hi\")\n",
    "            "
   ]
  },
  {
   "cell_type": "code",
   "execution_count": 2,
   "metadata": {},
   "outputs": [
    {
     "name": "stdout",
     "output_type": "stream",
     "text": [
      "enter int value onlydf\n",
      "invalid literal for int() with base 10: 'df'\n",
      "value\n",
      "enter int value onlydf\n",
      "invalid literal for int() with base 10: 'df'\n",
      "value\n",
      "enter int value only45\n",
      "you entered value  int\n",
      "value\n"
     ]
    }
   ],
   "source": [
    "askint()"
   ]
  },
  {
   "cell_type": "code",
   "execution_count": 1,
   "metadata": {},
   "outputs": [
    {
     "name": "stdout",
     "output_type": "stream",
     "text": [
      "hi\n"
     ]
    }
   ],
   "source": [
    "print(\"hi\")\n",
    "\n"
   ]
  },
  {
   "cell_type": "code",
   "execution_count": null,
   "metadata": {},
   "outputs": [],
   "source": [
    "in below example your order of exception is more important, your output \n",
    "depends on order of exceptions."
   ]
  },
  {
   "cell_type": "code",
   "execution_count": 2,
   "metadata": {},
   "outputs": [
    {
     "name": "stdout",
     "output_type": "stream",
     "text": [
      "[Errno 2] No such file or directory: 'ram.txt'\n"
     ]
    }
   ],
   "source": [
    "try:\n",
    "    f=open(\"ram.txt\")\n",
    "    f.write(\"hi ram, good morning\")\n",
    "\n",
    "except FileExistsError as e:\n",
    "    print(e)\n",
    "\n",
    "except FileNotFoundError as e:\n",
    "    print(e)\n",
    "    \n",
    "except OSError as e:\n",
    "    print(e)\n",
    "\n",
    "except IOError as e:\n",
    "    print(e)\n",
    "    \n",
    "except Exception as e:\n",
    "    print(\"if above exceptions not processed,this will printed\")\n"
   ]
  },
  {
   "cell_type": "markdown",
   "metadata": {},
   "source": [
    "YOU can write above mentioned Exceptions in single line also:"
   ]
  },
  {
   "cell_type": "code",
   "execution_count": 3,
   "metadata": {},
   "outputs": [
    {
     "name": "stdout",
     "output_type": "stream",
     "text": [
      "[Errno 2] No such file or directory: 'ram.txt'\n"
     ]
    }
   ],
   "source": [
    "try:\n",
    "    f=open(\"ram.txt\")\n",
    "    f.write(\"hi ram, good morning\")\n",
    "\n",
    "except (FileExistsError,ValueError,FileNotFoundError) as e:\n",
    "    print(e)"
   ]
  },
  {
   "cell_type": "markdown",
   "metadata": {},
   "source": [
    "you can create any error you want using raise word as follows:"
   ]
  },
  {
   "cell_type": "code",
   "execution_count": 5,
   "metadata": {},
   "outputs": [
    {
     "name": "stdout",
     "output_type": "stream",
     "text": [
      "enter int value only0\n",
      "division by zero\n"
     ]
    }
   ],
   "source": [
    "try :\n",
    "    v=int(input(\"enter int value only\"))\n",
    "    f=50/v\n",
    "    if v == 0:\n",
    "        raise ZeroDivisionError\n",
    "        \n",
    "except ZeroDivisionError as e:\n",
    "    print(e)"
   ]
  },
  {
   "cell_type": "code",
   "execution_count": null,
   "metadata": {},
   "outputs": [],
   "source": []
  }
 ],
 "metadata": {
  "kernelspec": {
   "display_name": "Python 3",
   "language": "python",
   "name": "python3"
  },
  "language_info": {
   "codemirror_mode": {
    "name": "ipython",
    "version": 3
   },
   "file_extension": ".py",
   "mimetype": "text/x-python",
   "name": "python",
   "nbconvert_exporter": "python",
   "pygments_lexer": "ipython3",
   "version": "3.7.6"
  }
 },
 "nbformat": 4,
 "nbformat_minor": 4
}
